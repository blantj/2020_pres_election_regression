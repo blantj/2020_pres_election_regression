{
 "cells": [
  {
   "cell_type": "markdown",
   "id": "5db65d81",
   "metadata": {},
   "source": [
    "# Import Libraries"
   ]
  },
  {
   "cell_type": "code",
   "execution_count": 27,
   "id": "a55157d4",
   "metadata": {},
   "outputs": [],
   "source": [
    "import pandas as pd\n",
    "import numpy as np"
   ]
  },
  {
   "cell_type": "markdown",
   "id": "f9fe8e42",
   "metadata": {},
   "source": [
    "# Obtain Data"
   ]
  },
  {
   "cell_type": "markdown",
   "id": "50735d90",
   "metadata": {},
   "source": [
    "Read csv with election results into pandas, scrub county names to match formatting of census data, filter for 2020 Trump vote proportion and drop unneeded columns"
   ]
  },
  {
   "cell_type": "code",
   "execution_count": 37,
   "id": "ba3adba1",
   "metadata": {},
   "outputs": [
    {
     "name": "stdout",
     "output_type": "stream",
     "text": [
      "election_df shape: (3155, 3)\n"
     ]
    },
    {
     "data": {
      "text/html": [
       "<div>\n",
       "<style scoped>\n",
       "    .dataframe tbody tr th:only-of-type {\n",
       "        vertical-align: middle;\n",
       "    }\n",
       "\n",
       "    .dataframe tbody tr th {\n",
       "        vertical-align: top;\n",
       "    }\n",
       "\n",
       "    .dataframe thead th {\n",
       "        text-align: right;\n",
       "    }\n",
       "</style>\n",
       "<table border=\"1\" class=\"dataframe\">\n",
       "  <thead>\n",
       "    <tr style=\"text-align: right;\">\n",
       "      <th></th>\n",
       "      <th>County</th>\n",
       "      <th>Trump Votes</th>\n",
       "      <th>Total Votes</th>\n",
       "    </tr>\n",
       "  </thead>\n",
       "  <tbody>\n",
       "    <tr>\n",
       "      <th>0</th>\n",
       "      <td>Abbeville County, South Carolina</td>\n",
       "      <td>8215.0</td>\n",
       "      <td>74598.0</td>\n",
       "    </tr>\n",
       "    <tr>\n",
       "      <th>1</th>\n",
       "      <td>Acadia County, Louisiana</td>\n",
       "      <td>22596.0</td>\n",
       "      <td>28425.0</td>\n",
       "    </tr>\n",
       "    <tr>\n",
       "      <th>2</th>\n",
       "      <td>Accomack County, Virginia</td>\n",
       "      <td>9172.0</td>\n",
       "      <td>50886.0</td>\n",
       "    </tr>\n",
       "    <tr>\n",
       "      <th>3</th>\n",
       "      <td>Ada County, Idaho</td>\n",
       "      <td>130699.0</td>\n",
       "      <td>259389.0</td>\n",
       "    </tr>\n",
       "    <tr>\n",
       "      <th>4</th>\n",
       "      <td>Adair County, Iowa</td>\n",
       "      <td>2922.0</td>\n",
       "      <td>8354.0</td>\n",
       "    </tr>\n",
       "  </tbody>\n",
       "</table>\n",
       "</div>"
      ],
      "text/plain": [
       "                             County  Trump Votes  Total Votes\n",
       "0  Abbeville County, South Carolina       8215.0      74598.0\n",
       "1          Acadia County, Louisiana      22596.0      28425.0\n",
       "2         Accomack County, Virginia       9172.0      50886.0\n",
       "3                 Ada County, Idaho     130699.0     259389.0\n",
       "4                Adair County, Iowa       2922.0       8354.0"
      ]
     },
     "execution_count": 37,
     "metadata": {},
     "output_type": "execute_result"
    }
   ],
   "source": [
    "election_df = pd.read_csv('Data/election_results.csv')\n",
    "election_df = election_df[(election_df['year']==2020) & (election_df['candidate']=='DONALD J TRUMP')]\n",
    "election_df['County'] = election_df.apply(lambda x: x['county_name'].title() + ' County, ' + x['state'].title(),\n",
    "                                            axis=1)\n",
    "election_df['County'] = election_df['County'].apply(lambda x: x.replace('City County', 'city'))\n",
    "election_df = election_df[['County', 'candidatevotes', 'totalvotes']]\n",
    "election_df.columns = ['County', 'Trump Votes', 'Total Votes']\n",
    "election_df = election_df.groupby(by='County', axis=0).sum()\n",
    "election_df.reset_index(inplace=True)\n",
    "print('election_df shape:', election_df.shape)\n",
    "election_df.head()"
   ]
  },
  {
   "cell_type": "markdown",
   "id": "0a5d4e8c",
   "metadata": {},
   "source": [
    "Read csv with county areas into pandas, scrub county names to match formatting of census data and drop unneeded columns"
   ]
  },
  {
   "cell_type": "code",
   "execution_count": 3,
   "id": "4b9b4f5c",
   "metadata": {},
   "outputs": [
    {
     "name": "stdout",
     "output_type": "stream",
     "text": [
      "area_df shape: (3198, 2)\n"
     ]
    },
    {
     "data": {
      "text/html": [
       "<div>\n",
       "<style scoped>\n",
       "    .dataframe tbody tr th:only-of-type {\n",
       "        vertical-align: middle;\n",
       "    }\n",
       "\n",
       "    .dataframe tbody tr th {\n",
       "        vertical-align: top;\n",
       "    }\n",
       "\n",
       "    .dataframe thead th {\n",
       "        text-align: right;\n",
       "    }\n",
       "</style>\n",
       "<table border=\"1\" class=\"dataframe\">\n",
       "  <thead>\n",
       "    <tr style=\"text-align: right;\">\n",
       "      <th></th>\n",
       "      <th>County</th>\n",
       "      <th>Area</th>\n",
       "    </tr>\n",
       "  </thead>\n",
       "  <tbody>\n",
       "    <tr>\n",
       "      <th>0</th>\n",
       "      <td>UNITED STATES</td>\n",
       "      <td>3794083.06</td>\n",
       "    </tr>\n",
       "    <tr>\n",
       "      <th>1</th>\n",
       "      <td>ALABAMA</td>\n",
       "      <td>52419.02</td>\n",
       "    </tr>\n",
       "    <tr>\n",
       "      <th>2</th>\n",
       "      <td>Autauga County, Alabama</td>\n",
       "      <td>604.45</td>\n",
       "    </tr>\n",
       "    <tr>\n",
       "      <th>3</th>\n",
       "      <td>Baldwin County, Alabama</td>\n",
       "      <td>2026.93</td>\n",
       "    </tr>\n",
       "    <tr>\n",
       "      <th>4</th>\n",
       "      <td>Barbour County, Alabama</td>\n",
       "      <td>904.52</td>\n",
       "    </tr>\n",
       "  </tbody>\n",
       "</table>\n",
       "</div>"
      ],
      "text/plain": [
       "                    County        Area\n",
       "0            UNITED STATES  3794083.06\n",
       "1                  ALABAMA    52419.02\n",
       "2  Autauga County, Alabama      604.45\n",
       "3  Baldwin County, Alabama     2026.93\n",
       "4  Barbour County, Alabama      904.52"
      ]
     },
     "execution_count": 3,
     "metadata": {},
     "output_type": "execute_result"
    }
   ],
   "source": [
    "#Update Virginia independent cities with city instead of County\n",
    "\n",
    "area_df = pd.read_csv('Data/area.csv')\n",
    "area_df = area_df[['Areaname', 'LND010200D']]\n",
    "area_df.columns = ['County', 'Area']\n",
    "area_df['County']\n",
    "\n",
    "state_abbrev_df = pd.read_csv('Data/state_abbrev.csv')\n",
    "def replace_abbrev(row):\n",
    "    if len(row.split(',')) == 1:\n",
    "        return row    \n",
    "    else:\n",
    "        state_abbrev = row.split(',')[1][1:]\n",
    "        state = state_abbrev_df[state_abbrev_df['Code']==state_abbrev]['State'].values[0]\n",
    "        return row.split(',')[0] + ' County, ' + state\n",
    "area_df['County'] = area_df['County'].apply(replace_abbrev)\n",
    "print('area_df shape:', area_df.shape)\n",
    "area_df.head()"
   ]
  },
  {
   "cell_type": "markdown",
   "id": "2bcd5292",
   "metadata": {},
   "source": [
    "Read csv with county level education data into pandas and drop unneeded columns"
   ]
  },
  {
   "cell_type": "code",
   "execution_count": 5,
   "id": "af44d36e",
   "metadata": {},
   "outputs": [
    {
     "name": "stdout",
     "output_type": "stream",
     "text": [
      "education_df shape:  (840, 3)\n"
     ]
    },
    {
     "data": {
      "text/html": [
       "<div>\n",
       "<style scoped>\n",
       "    .dataframe tbody tr th:only-of-type {\n",
       "        vertical-align: middle;\n",
       "    }\n",
       "\n",
       "    .dataframe tbody tr th {\n",
       "        vertical-align: top;\n",
       "    }\n",
       "\n",
       "    .dataframe thead th {\n",
       "        text-align: right;\n",
       "    }\n",
       "</style>\n",
       "<table border=\"1\" class=\"dataframe\">\n",
       "  <thead>\n",
       "    <tr style=\"text-align: right;\">\n",
       "      <th></th>\n",
       "      <th>County</th>\n",
       "      <th>Persons 25+</th>\n",
       "      <th>Persons 25+ w/ Bachelors Degree</th>\n",
       "    </tr>\n",
       "  </thead>\n",
       "  <tbody>\n",
       "    <tr>\n",
       "      <th>0</th>\n",
       "      <td>Baldwin County, Alabama</td>\n",
       "      <td>159717</td>\n",
       "      <td>51471</td>\n",
       "    </tr>\n",
       "    <tr>\n",
       "      <th>1</th>\n",
       "      <td>Calhoun County, Alabama</td>\n",
       "      <td>79084</td>\n",
       "      <td>15257</td>\n",
       "    </tr>\n",
       "    <tr>\n",
       "      <th>2</th>\n",
       "      <td>Cullman County, Alabama</td>\n",
       "      <td>58795</td>\n",
       "      <td>9241</td>\n",
       "    </tr>\n",
       "    <tr>\n",
       "      <th>3</th>\n",
       "      <td>DeKalb County, Alabama</td>\n",
       "      <td>47007</td>\n",
       "      <td>5999</td>\n",
       "    </tr>\n",
       "    <tr>\n",
       "      <th>4</th>\n",
       "      <td>Elmore County, Alabama</td>\n",
       "      <td>57553</td>\n",
       "      <td>14310</td>\n",
       "    </tr>\n",
       "  </tbody>\n",
       "</table>\n",
       "</div>"
      ],
      "text/plain": [
       "                    County  Persons 25+  Persons 25+ w/ Bachelors Degree\n",
       "0  Baldwin County, Alabama       159717                            51471\n",
       "1  Calhoun County, Alabama        79084                            15257\n",
       "2  Cullman County, Alabama        58795                             9241\n",
       "3   DeKalb County, Alabama        47007                             5999\n",
       "4   Elmore County, Alabama        57553                            14310"
      ]
     },
     "execution_count": 5,
     "metadata": {},
     "output_type": "execute_result"
    }
   ],
   "source": [
    "education_df = pd.read_csv('Data/education.csv', header=1)\n",
    "education_df = education_df[['Geographic Area Name',\n",
    "                            'Estimate!!Total!!AGE BY EDUCATIONAL ATTAINMENT!!Population 25 years and over', \n",
    "                            \"Estimate!!Total!!AGE BY EDUCATIONAL ATTAINMENT!!Population 25 years and over!!Bachelor's degree or higher\"]]\n",
    "education_df.columns = ['County', 'Persons 25+', 'Persons 25+ w/ Bachelors Degree']\n",
    "print('education_df shape: ', education_df.shape)\n",
    "education_df.head()"
   ]
  },
  {
   "cell_type": "markdown",
   "id": "470d6961",
   "metadata": {},
   "source": [
    "Read csv with county level economic data into pandas and drop unneeded columns"
   ]
  },
  {
   "cell_type": "code",
   "execution_count": 14,
   "id": "b2c490fc",
   "metadata": {},
   "outputs": [
    {
     "name": "stdout",
     "output_type": "stream",
     "text": [
      "economic_df shape:  (840, 6)\n"
     ]
    },
    {
     "data": {
      "text/html": [
       "<div>\n",
       "<style scoped>\n",
       "    .dataframe tbody tr th:only-of-type {\n",
       "        vertical-align: middle;\n",
       "    }\n",
       "\n",
       "    .dataframe tbody tr th {\n",
       "        vertical-align: top;\n",
       "    }\n",
       "\n",
       "    .dataframe thead th {\n",
       "        text-align: right;\n",
       "    }\n",
       "</style>\n",
       "<table border=\"1\" class=\"dataframe\">\n",
       "  <thead>\n",
       "    <tr style=\"text-align: right;\">\n",
       "      <th></th>\n",
       "      <th>County</th>\n",
       "      <th>Per Capita Income</th>\n",
       "      <th>Persons 16+ in Labor Force</th>\n",
       "      <th>Persons 16+ Unemployed</th>\n",
       "      <th>Persons 16+ Employed</th>\n",
       "      <th>Persons 16+ Manufacturing Employed</th>\n",
       "    </tr>\n",
       "  </thead>\n",
       "  <tbody>\n",
       "    <tr>\n",
       "      <th>0</th>\n",
       "      <td>Baldwin County, Alabama</td>\n",
       "      <td>32443</td>\n",
       "      <td>101561</td>\n",
       "      <td>5549</td>\n",
       "      <td>96012</td>\n",
       "      <td>8791</td>\n",
       "    </tr>\n",
       "    <tr>\n",
       "      <th>1</th>\n",
       "      <td>Calhoun County, Alabama</td>\n",
       "      <td>24579</td>\n",
       "      <td>51001</td>\n",
       "      <td>3754</td>\n",
       "      <td>45641</td>\n",
       "      <td>7044</td>\n",
       "    </tr>\n",
       "    <tr>\n",
       "      <th>2</th>\n",
       "      <td>Cullman County, Alabama</td>\n",
       "      <td>23968</td>\n",
       "      <td>38222</td>\n",
       "      <td>1783</td>\n",
       "      <td>36439</td>\n",
       "      <td>5282</td>\n",
       "    </tr>\n",
       "    <tr>\n",
       "      <th>3</th>\n",
       "      <td>DeKalb County, Alabama</td>\n",
       "      <td>21939</td>\n",
       "      <td>34492</td>\n",
       "      <td>1606</td>\n",
       "      <td>32544</td>\n",
       "      <td>9052</td>\n",
       "    </tr>\n",
       "    <tr>\n",
       "      <th>4</th>\n",
       "      <td>Elmore County, Alabama</td>\n",
       "      <td>31396</td>\n",
       "      <td>37693</td>\n",
       "      <td>1014</td>\n",
       "      <td>35358</td>\n",
       "      <td>4634</td>\n",
       "    </tr>\n",
       "  </tbody>\n",
       "</table>\n",
       "</div>"
      ],
      "text/plain": [
       "                    County  Per Capita Income  Persons 16+ in Labor Force  \\\n",
       "0  Baldwin County, Alabama              32443                      101561   \n",
       "1  Calhoun County, Alabama              24579                       51001   \n",
       "2  Cullman County, Alabama              23968                       38222   \n",
       "3   DeKalb County, Alabama              21939                       34492   \n",
       "4   Elmore County, Alabama              31396                       37693   \n",
       "\n",
       "   Persons 16+ Unemployed Persons 16+ Employed  \\\n",
       "0                    5549                96012   \n",
       "1                    3754                45641   \n",
       "2                    1783                36439   \n",
       "3                    1606                32544   \n",
       "4                    1014                35358   \n",
       "\n",
       "  Persons 16+ Manufacturing Employed  \n",
       "0                               8791  \n",
       "1                               7044  \n",
       "2                               5282  \n",
       "3                               9052  \n",
       "4                               4634  "
      ]
     },
     "execution_count": 14,
     "metadata": {},
     "output_type": "execute_result"
    }
   ],
   "source": [
    "economic_df = pd.read_csv('Data/economics.csv', header=1)\n",
    "economic_df = economic_df[['Geographic Area Name',\n",
    "                          'Estimate!!INCOME AND BENEFITS (IN 2019 INFLATION-ADJUSTED DOLLARS)!!Per capita income (dollars)',\n",
    "                          'Estimate!!EMPLOYMENT STATUS!!Population 16 years and over!!In labor force',\n",
    "                          'Estimate!!EMPLOYMENT STATUS!!Population 16 years and over!!In labor force!!Civilian labor force!!Unemployed',\n",
    "                          'Estimate!!OCCUPATION!!Civilian employed population 16 years and over',\n",
    "                          'Estimate!!INDUSTRY!!Civilian employed population 16 years and over!!Manufacturing']]\n",
    "economic_df.columns = ['County', 'Per Capita Income', 'Persons 16+ in Labor Force', 'Persons 16+ Unemployed',\n",
    "                       'Persons 16+ Employed', 'Persons 16+ Manufacturing Employed']\n",
    "print('economic_df shape: ', economic_df.shape)\n",
    "economic_df.head()"
   ]
  },
  {
   "cell_type": "markdown",
   "id": "aa0dca93",
   "metadata": {},
   "source": [
    "Read csv with ethnicity data into pandas and drop unneeded columns"
   ]
  },
  {
   "cell_type": "code",
   "execution_count": 15,
   "id": "16e47e00",
   "metadata": {},
   "outputs": [
    {
     "name": "stdout",
     "output_type": "stream",
     "text": [
      "ethnicity_df shape:  (840, 5)\n"
     ]
    },
    {
     "data": {
      "text/html": [
       "<div>\n",
       "<style scoped>\n",
       "    .dataframe tbody tr th:only-of-type {\n",
       "        vertical-align: middle;\n",
       "    }\n",
       "\n",
       "    .dataframe tbody tr th {\n",
       "        vertical-align: top;\n",
       "    }\n",
       "\n",
       "    .dataframe thead th {\n",
       "        text-align: right;\n",
       "    }\n",
       "</style>\n",
       "<table border=\"1\" class=\"dataframe\">\n",
       "  <thead>\n",
       "    <tr style=\"text-align: right;\">\n",
       "      <th></th>\n",
       "      <th>County</th>\n",
       "      <th>Sex Ratio (M/F)</th>\n",
       "      <th>Total Persons</th>\n",
       "      <th>Hispanic Persons</th>\n",
       "      <th>White Persons</th>\n",
       "    </tr>\n",
       "  </thead>\n",
       "  <tbody>\n",
       "    <tr>\n",
       "      <th>0</th>\n",
       "      <td>Baldwin County, Alabama</td>\n",
       "      <td>95.7</td>\n",
       "      <td>223234</td>\n",
       "      <td>10534</td>\n",
       "      <td>190912</td>\n",
       "    </tr>\n",
       "    <tr>\n",
       "      <th>1</th>\n",
       "      <td>Calhoun County, Alabama</td>\n",
       "      <td>91.5</td>\n",
       "      <td>113605</td>\n",
       "      <td>4614</td>\n",
       "      <td>82323</td>\n",
       "    </tr>\n",
       "    <tr>\n",
       "      <th>2</th>\n",
       "      <td>Cullman County, Alabama</td>\n",
       "      <td>94.0</td>\n",
       "      <td>83768</td>\n",
       "      <td>3752</td>\n",
       "      <td>N</td>\n",
       "    </tr>\n",
       "    <tr>\n",
       "      <th>3</th>\n",
       "      <td>DeKalb County, Alabama</td>\n",
       "      <td>99.6</td>\n",
       "      <td>71513</td>\n",
       "      <td>10775</td>\n",
       "      <td>59305</td>\n",
       "    </tr>\n",
       "    <tr>\n",
       "      <th>4</th>\n",
       "      <td>Elmore County, Alabama</td>\n",
       "      <td>97.4</td>\n",
       "      <td>81209</td>\n",
       "      <td>2563</td>\n",
       "      <td>61634</td>\n",
       "    </tr>\n",
       "  </tbody>\n",
       "</table>\n",
       "</div>"
      ],
      "text/plain": [
       "                    County  Sex Ratio (M/F)  Total Persons  Hispanic Persons  \\\n",
       "0  Baldwin County, Alabama             95.7         223234             10534   \n",
       "1  Calhoun County, Alabama             91.5         113605              4614   \n",
       "2  Cullman County, Alabama             94.0          83768              3752   \n",
       "3   DeKalb County, Alabama             99.6          71513             10775   \n",
       "4   Elmore County, Alabama             97.4          81209              2563   \n",
       "\n",
       "  White Persons  \n",
       "0        190912  \n",
       "1         82323  \n",
       "2             N  \n",
       "3         59305  \n",
       "4         61634  "
      ]
     },
     "execution_count": 15,
     "metadata": {},
     "output_type": "execute_result"
    }
   ],
   "source": [
    "ethnicity_df = pd.read_csv('Data/ethnicity.csv', header=1)\n",
    "ethnicity_df = ethnicity_df[['Geographic Area Name',\n",
    "                             'Estimate!!SEX AND AGE!!Total population!!Sex ratio (males per 100 females)',\n",
    "                             'Estimate!!SEX AND AGE!!Total population',\n",
    "                             'Estimate!!HISPANIC OR LATINO AND RACE!!Total population!!Hispanic or Latino (of any race)',\n",
    "                             'Estimate!!RACE!!Total population!!One race!!White']]\n",
    "ethnicity_df.columns = ['County', 'Sex Ratio (M/F)', 'Total Persons', 'Hispanic Persons', 'White Persons']\n",
    "print('ethnicity_df shape: ', ethnicity_df.shape)\n",
    "ethnicity_df.head()"
   ]
  },
  {
   "cell_type": "markdown",
   "id": "6c1b8188",
   "metadata": {},
   "source": [
    "Read csv with disability data into pandas and drop unneeded columns"
   ]
  },
  {
   "cell_type": "code",
   "execution_count": 16,
   "id": "fc3b238c",
   "metadata": {},
   "outputs": [
    {
     "name": "stdout",
     "output_type": "stream",
     "text": [
      "disability_df shape:  (840, 2)\n"
     ]
    },
    {
     "data": {
      "text/html": [
       "<div>\n",
       "<style scoped>\n",
       "    .dataframe tbody tr th:only-of-type {\n",
       "        vertical-align: middle;\n",
       "    }\n",
       "\n",
       "    .dataframe tbody tr th {\n",
       "        vertical-align: top;\n",
       "    }\n",
       "\n",
       "    .dataframe thead th {\n",
       "        text-align: right;\n",
       "    }\n",
       "</style>\n",
       "<table border=\"1\" class=\"dataframe\">\n",
       "  <thead>\n",
       "    <tr style=\"text-align: right;\">\n",
       "      <th></th>\n",
       "      <th>County</th>\n",
       "      <th>Disability Proportion</th>\n",
       "    </tr>\n",
       "  </thead>\n",
       "  <tbody>\n",
       "    <tr>\n",
       "      <th>0</th>\n",
       "      <td>Baldwin County, Alabama</td>\n",
       "      <td>14.4</td>\n",
       "    </tr>\n",
       "    <tr>\n",
       "      <th>1</th>\n",
       "      <td>Calhoun County, Alabama</td>\n",
       "      <td>20.0</td>\n",
       "    </tr>\n",
       "    <tr>\n",
       "      <th>2</th>\n",
       "      <td>Cullman County, Alabama</td>\n",
       "      <td>17.5</td>\n",
       "    </tr>\n",
       "    <tr>\n",
       "      <th>3</th>\n",
       "      <td>DeKalb County, Alabama</td>\n",
       "      <td>10.8</td>\n",
       "    </tr>\n",
       "    <tr>\n",
       "      <th>4</th>\n",
       "      <td>Elmore County, Alabama</td>\n",
       "      <td>12.9</td>\n",
       "    </tr>\n",
       "  </tbody>\n",
       "</table>\n",
       "</div>"
      ],
      "text/plain": [
       "                    County  Disability Proportion\n",
       "0  Baldwin County, Alabama                   14.4\n",
       "1  Calhoun County, Alabama                   20.0\n",
       "2  Cullman County, Alabama                   17.5\n",
       "3   DeKalb County, Alabama                   10.8\n",
       "4   Elmore County, Alabama                   12.9"
      ]
     },
     "execution_count": 16,
     "metadata": {},
     "output_type": "execute_result"
    }
   ],
   "source": [
    "disability_df = pd.read_csv('Data/disability.csv', header=1)\n",
    "disability_df = disability_df[['Geographic Area Name',\n",
    "    'Estimate!!Percent with a disability!!Total civilian noninstitutionalized population']]\n",
    "disability_df.columns = ['County', 'Disability Proportion']\n",
    "print('disability_df shape: ', disability_df.shape)\n",
    "disability_df.head()"
   ]
  },
  {
   "cell_type": "markdown",
   "id": "b2e7d853",
   "metadata": {},
   "source": [
    "Read csv with demographic data into pandas and drop unneeded columns"
   ]
  },
  {
   "cell_type": "code",
   "execution_count": 17,
   "id": "d03dd26a",
   "metadata": {},
   "outputs": [
    {
     "name": "stdout",
     "output_type": "stream",
     "text": [
      "demographics_df shape:  (840, 2)\n"
     ]
    },
    {
     "data": {
      "text/html": [
       "<div>\n",
       "<style scoped>\n",
       "    .dataframe tbody tr th:only-of-type {\n",
       "        vertical-align: middle;\n",
       "    }\n",
       "\n",
       "    .dataframe tbody tr th {\n",
       "        vertical-align: top;\n",
       "    }\n",
       "\n",
       "    .dataframe thead th {\n",
       "        text-align: right;\n",
       "    }\n",
       "</style>\n",
       "<table border=\"1\" class=\"dataframe\">\n",
       "  <thead>\n",
       "    <tr style=\"text-align: right;\">\n",
       "      <th></th>\n",
       "      <th>County</th>\n",
       "      <th>Median Age</th>\n",
       "    </tr>\n",
       "  </thead>\n",
       "  <tbody>\n",
       "    <tr>\n",
       "      <th>0</th>\n",
       "      <td>Baldwin County, Alabama</td>\n",
       "      <td>43.0</td>\n",
       "    </tr>\n",
       "    <tr>\n",
       "      <th>1</th>\n",
       "      <td>Calhoun County, Alabama</td>\n",
       "      <td>39.6</td>\n",
       "    </tr>\n",
       "    <tr>\n",
       "      <th>2</th>\n",
       "      <td>Cullman County, Alabama</td>\n",
       "      <td>41.9</td>\n",
       "    </tr>\n",
       "    <tr>\n",
       "      <th>3</th>\n",
       "      <td>DeKalb County, Alabama</td>\n",
       "      <td>37.7</td>\n",
       "    </tr>\n",
       "    <tr>\n",
       "      <th>4</th>\n",
       "      <td>Elmore County, Alabama</td>\n",
       "      <td>39.0</td>\n",
       "    </tr>\n",
       "  </tbody>\n",
       "</table>\n",
       "</div>"
      ],
      "text/plain": [
       "                    County  Median Age\n",
       "0  Baldwin County, Alabama        43.0\n",
       "1  Calhoun County, Alabama        39.6\n",
       "2  Cullman County, Alabama        41.9\n",
       "3   DeKalb County, Alabama        37.7\n",
       "4   Elmore County, Alabama        39.0"
      ]
     },
     "execution_count": 17,
     "metadata": {},
     "output_type": "execute_result"
    }
   ],
   "source": [
    "demographics_df = pd.read_csv('Data/demographics.csv', header=1)\n",
    "demographics_df = demographics_df[['Geographic Area Name',\n",
    "                                  'Estimate!!Total!!Total population!!SUMMARY INDICATORS!!Median age (years)']]\n",
    "demographics_df.columns = ['County', 'Median Age']\n",
    "print('demographics_df shape: ', demographics_df.shape)\n",
    "demographics_df.head()"
   ]
  },
  {
   "cell_type": "markdown",
   "id": "881153f5",
   "metadata": {},
   "source": [
    "Read csv with veteran proprtion into pandas and drop unneeded columns"
   ]
  },
  {
   "cell_type": "code",
   "execution_count": 18,
   "id": "813cd503",
   "metadata": {},
   "outputs": [
    {
     "name": "stdout",
     "output_type": "stream",
     "text": [
      "veterans_df shape:  (840, 3)\n"
     ]
    },
    {
     "data": {
      "text/html": [
       "<div>\n",
       "<style scoped>\n",
       "    .dataframe tbody tr th:only-of-type {\n",
       "        vertical-align: middle;\n",
       "    }\n",
       "\n",
       "    .dataframe tbody tr th {\n",
       "        vertical-align: top;\n",
       "    }\n",
       "\n",
       "    .dataframe thead th {\n",
       "        text-align: right;\n",
       "    }\n",
       "</style>\n",
       "<table border=\"1\" class=\"dataframe\">\n",
       "  <thead>\n",
       "    <tr style=\"text-align: right;\">\n",
       "      <th></th>\n",
       "      <th>County</th>\n",
       "      <th>Civilians 18+</th>\n",
       "      <th>Veterans 18+</th>\n",
       "    </tr>\n",
       "  </thead>\n",
       "  <tbody>\n",
       "    <tr>\n",
       "      <th>0</th>\n",
       "      <td>Baldwin County, Alabama</td>\n",
       "      <td>176331</td>\n",
       "      <td>19580</td>\n",
       "    </tr>\n",
       "    <tr>\n",
       "      <th>1</th>\n",
       "      <td>Calhoun County, Alabama</td>\n",
       "      <td>87525</td>\n",
       "      <td>8552</td>\n",
       "    </tr>\n",
       "    <tr>\n",
       "      <th>2</th>\n",
       "      <td>Cullman County, Alabama</td>\n",
       "      <td>64955</td>\n",
       "      <td>4907</td>\n",
       "    </tr>\n",
       "    <tr>\n",
       "      <th>3</th>\n",
       "      <td>DeKalb County, Alabama</td>\n",
       "      <td>53737</td>\n",
       "      <td>3499</td>\n",
       "    </tr>\n",
       "    <tr>\n",
       "      <th>4</th>\n",
       "      <td>Elmore County, Alabama</td>\n",
       "      <td>61837</td>\n",
       "      <td>6512</td>\n",
       "    </tr>\n",
       "  </tbody>\n",
       "</table>\n",
       "</div>"
      ],
      "text/plain": [
       "                    County  Civilians 18+  Veterans 18+\n",
       "0  Baldwin County, Alabama         176331         19580\n",
       "1  Calhoun County, Alabama          87525          8552\n",
       "2  Cullman County, Alabama          64955          4907\n",
       "3   DeKalb County, Alabama          53737          3499\n",
       "4   Elmore County, Alabama          61837          6512"
      ]
     },
     "execution_count": 18,
     "metadata": {},
     "output_type": "execute_result"
    }
   ],
   "source": [
    "veterans_df = pd.read_csv('Data/veterans.csv', header=1)\n",
    "veterans_df = veterans_df[['Geographic Area Name',\n",
    "                           'Estimate!!Total!!Civilian population 18 years and over',\n",
    "                           'Estimate!!Veterans!!Civilian population 18 years and over']]\n",
    "veterans_df.columns = ['County', 'Civilians 18+', 'Veterans 18+']\n",
    "print('veterans_df shape: ', veterans_df.shape)\n",
    "veterans_df.head()"
   ]
  },
  {
   "cell_type": "markdown",
   "id": "c185c538",
   "metadata": {},
   "source": [
    "Read csv with occupational data into pandas and drop unneeded columns"
   ]
  },
  {
   "cell_type": "code",
   "execution_count": 19,
   "id": "aeaea565",
   "metadata": {},
   "outputs": [
    {
     "name": "stdout",
     "output_type": "stream",
     "text": [
      "occupation_df shape:  (1389, 2)\n"
     ]
    },
    {
     "data": {
      "text/html": [
       "<div>\n",
       "<style scoped>\n",
       "    .dataframe tbody tr th:only-of-type {\n",
       "        vertical-align: middle;\n",
       "    }\n",
       "\n",
       "    .dataframe tbody tr th {\n",
       "        vertical-align: top;\n",
       "    }\n",
       "\n",
       "    .dataframe thead th {\n",
       "        text-align: right;\n",
       "    }\n",
       "</style>\n",
       "<table border=\"1\" class=\"dataframe\">\n",
       "  <thead>\n",
       "    <tr style=\"text-align: right;\">\n",
       "      <th></th>\n",
       "      <th>Geographic Area Name</th>\n",
       "      <th>Number of employees</th>\n",
       "    </tr>\n",
       "  </thead>\n",
       "  <tbody>\n",
       "    <tr>\n",
       "      <th>0</th>\n",
       "      <td>Autauga County, Alabama</td>\n",
       "      <td>84</td>\n",
       "    </tr>\n",
       "    <tr>\n",
       "      <th>1</th>\n",
       "      <td>Baldwin County, Alabama</td>\n",
       "      <td>69</td>\n",
       "    </tr>\n",
       "    <tr>\n",
       "      <th>2</th>\n",
       "      <td>Barbour County, Alabama</td>\n",
       "      <td>91</td>\n",
       "    </tr>\n",
       "    <tr>\n",
       "      <th>3</th>\n",
       "      <td>Colbert County, Alabama</td>\n",
       "      <td>102</td>\n",
       "    </tr>\n",
       "    <tr>\n",
       "      <th>4</th>\n",
       "      <td>Escambia County, Alabama</td>\n",
       "      <td>224</td>\n",
       "    </tr>\n",
       "  </tbody>\n",
       "</table>\n",
       "</div>"
      ],
      "text/plain": [
       "       Geographic Area Name Number of employees\n",
       "0   Autauga County, Alabama                  84\n",
       "1   Baldwin County, Alabama                  69\n",
       "2   Barbour County, Alabama                  91\n",
       "3   Colbert County, Alabama                 102\n",
       "4  Escambia County, Alabama                 224"
      ]
     },
     "execution_count": 19,
     "metadata": {},
     "output_type": "execute_result"
    }
   ],
   "source": [
    "occupation_df = pd.read_csv('Data/occupation.csv', header=1)\n",
    "occupation_df = occupation_df[(occupation_df['Meaning of NAICS code']=='Mining, quarrying, and oil and gas extraction')\n",
    "                             & (occupation_df['Meaning of Employment size of establishments']=='All establishments')]\n",
    "occupation_df = occupation_df[['Geographic Area Name', 'Number of employees']]\n",
    "occupation_df.reset_index(inplace=True, drop=True)\n",
    "print('occupation_df shape: ', occupation_df.shape)\n",
    "occupation_df.head()"
   ]
  },
  {
   "cell_type": "markdown",
   "id": "8664d2cf",
   "metadata": {},
   "source": [
    "Read csv with agricultural employment data into pandas and drop unneeded columns"
   ]
  },
  {
   "cell_type": "code",
   "execution_count": 33,
   "id": "d5ae4073",
   "metadata": {},
   "outputs": [
    {
     "name": "stdout",
     "output_type": "stream",
     "text": [
      "agriculture_df shape:  (840, 3)\n"
     ]
    },
    {
     "data": {
      "text/html": [
       "<div>\n",
       "<style scoped>\n",
       "    .dataframe tbody tr th:only-of-type {\n",
       "        vertical-align: middle;\n",
       "    }\n",
       "\n",
       "    .dataframe tbody tr th {\n",
       "        vertical-align: top;\n",
       "    }\n",
       "\n",
       "    .dataframe thead th {\n",
       "        text-align: right;\n",
       "    }\n",
       "</style>\n",
       "<table border=\"1\" class=\"dataframe\">\n",
       "  <thead>\n",
       "    <tr style=\"text-align: right;\">\n",
       "      <th></th>\n",
       "      <th>County</th>\n",
       "      <th>Persons 16+ Employment</th>\n",
       "      <th>Agricultural Employment</th>\n",
       "    </tr>\n",
       "  </thead>\n",
       "  <tbody>\n",
       "    <tr>\n",
       "      <th>0</th>\n",
       "      <td>Baldwin County, Alabama</td>\n",
       "      <td>96012</td>\n",
       "      <td>426</td>\n",
       "    </tr>\n",
       "    <tr>\n",
       "      <th>1</th>\n",
       "      <td>Calhoun County, Alabama</td>\n",
       "      <td>45641</td>\n",
       "      <td>83</td>\n",
       "    </tr>\n",
       "    <tr>\n",
       "      <th>2</th>\n",
       "      <td>Cullman County, Alabama</td>\n",
       "      <td>36439</td>\n",
       "      <td>509</td>\n",
       "    </tr>\n",
       "    <tr>\n",
       "      <th>3</th>\n",
       "      <td>DeKalb County, Alabama</td>\n",
       "      <td>32544</td>\n",
       "      <td>147</td>\n",
       "    </tr>\n",
       "    <tr>\n",
       "      <th>4</th>\n",
       "      <td>Elmore County, Alabama</td>\n",
       "      <td>35358</td>\n",
       "      <td>68</td>\n",
       "    </tr>\n",
       "  </tbody>\n",
       "</table>\n",
       "</div>"
      ],
      "text/plain": [
       "                    County Persons 16+ Employment Agricultural Employment\n",
       "0  Baldwin County, Alabama                  96012                     426\n",
       "1  Calhoun County, Alabama                  45641                      83\n",
       "2  Cullman County, Alabama                  36439                     509\n",
       "3   DeKalb County, Alabama                  32544                     147\n",
       "4   Elmore County, Alabama                  35358                      68"
      ]
     },
     "execution_count": 33,
     "metadata": {},
     "output_type": "execute_result"
    }
   ],
   "source": [
    "agriculture_df = pd.read_csv('Data/agricultural_employment.csv', header=1)\n",
    "agriculture_df = agriculture_df[['Geographic Area Name', \n",
    "                                 'Estimate!!Total!!Civilian employed population 16 years and over',\n",
    "                                 'Estimate!!Total!!Civilian employed population 16 years and over!!Natural resources, construction, and maintenance occupations:!!Farming, fishing, and forestry occupations']]\n",
    "agriculture_df.columns = ['County', 'Persons 16+ Employment', 'Agricultural Employment']\n",
    "print('agriculture_df shape: ', agriculture_df.shape)\n",
    "agriculture_df.head()"
   ]
  },
  {
   "cell_type": "code",
   "execution_count": 36,
   "id": "2e4ce903",
   "metadata": {},
   "outputs": [
    {
     "data": {
      "text/html": [
       "<div>\n",
       "<style scoped>\n",
       "    .dataframe tbody tr th:only-of-type {\n",
       "        vertical-align: middle;\n",
       "    }\n",
       "\n",
       "    .dataframe tbody tr th {\n",
       "        vertical-align: top;\n",
       "    }\n",
       "\n",
       "    .dataframe thead th {\n",
       "        text-align: right;\n",
       "    }\n",
       "</style>\n",
       "<table border=\"1\" class=\"dataframe\">\n",
       "  <thead>\n",
       "    <tr style=\"text-align: right;\">\n",
       "      <th></th>\n",
       "      <th>County</th>\n",
       "      <th>Persons 16+ Employment</th>\n",
       "      <th>Agricultural Employment</th>\n",
       "    </tr>\n",
       "  </thead>\n",
       "  <tbody>\n",
       "    <tr>\n",
       "      <th>774</th>\n",
       "      <td>Roanoke city, Virginia</td>\n",
       "      <td>48902</td>\n",
       "      <td>0</td>\n",
       "    </tr>\n",
       "  </tbody>\n",
       "</table>\n",
       "</div>"
      ],
      "text/plain": [
       "                     County Persons 16+ Employment Agricultural Employment\n",
       "774  Roanoke city, Virginia                  48902                       0"
      ]
     },
     "execution_count": 36,
     "metadata": {},
     "output_type": "execute_result"
    }
   ],
   "source": [
    "agriculture_df[agriculture_df['County']=='Roanoke city, Virginia']"
   ]
  },
  {
   "cell_type": "code",
   "execution_count": null,
   "id": "16ddb6fd",
   "metadata": {},
   "outputs": [],
   "source": []
  },
  {
   "cell_type": "code",
   "execution_count": null,
   "id": "45c4e3f2",
   "metadata": {},
   "outputs": [],
   "source": []
  }
 ],
 "metadata": {
  "kernelspec": {
   "display_name": "Python 3",
   "language": "python",
   "name": "python3"
  },
  "language_info": {
   "codemirror_mode": {
    "name": "ipython",
    "version": 3
   },
   "file_extension": ".py",
   "mimetype": "text/x-python",
   "name": "python",
   "nbconvert_exporter": "python",
   "pygments_lexer": "ipython3",
   "version": "3.9.5"
  }
 },
 "nbformat": 4,
 "nbformat_minor": 5
}
