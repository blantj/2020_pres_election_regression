{
 "cells": [
  {
   "cell_type": "markdown",
   "id": "5db65d81",
   "metadata": {},
   "source": [
    "# Import Libraries"
   ]
  },
  {
   "cell_type": "code",
   "execution_count": null,
   "id": "a55157d4",
   "metadata": {},
   "outputs": [],
   "source": [
    "import pandas as pd\n",
    "import numpy as np\n",
    "from sklearn.preprocessing import StandardScaler\n",
    "from sklearn.impute import KNNImputer"
   ]
  },
  {
   "cell_type": "markdown",
   "id": "f9fe8e42",
   "metadata": {},
   "source": [
    "# Obtain Data"
   ]
  },
  {
   "cell_type": "markdown",
   "id": "50735d90",
   "metadata": {},
   "source": [
    "Read csv with election results into pandas, scrub county names to match formatting of census data, filter for 2020 Trump vote proportion and drop unneeded columns"
   ]
  },
  {
   "cell_type": "code",
   "execution_count": null,
   "id": "ba3adba1",
   "metadata": {},
   "outputs": [],
   "source": [
    "election_df = pd.read_csv('Data/election_results.csv')\n",
    "election_df = election_df[(election_df['year']==2020) & (election_df['candidate']=='DONALD J TRUMP')]\n",
    "election_df['County'] = election_df.apply(lambda x: x['county_name'].title() + ' County, ' + x['state'].title(),\n",
    "                                            axis=1)\n",
    "election_df['County'] = election_df['County'].apply(lambda x: x.replace('City County', 'City'))\n",
    "election_df['County'] = election_df['County'].apply(lambda x: x.replace('County County', 'County'))\n",
    "election_df['County'] = election_df['County'].apply(lambda x: x.replace('Saint', 'St.'))\n",
    "election_df['County'] = election_df['County'].apply(lambda x: x.replace('St ', 'St. '))\n",
    "election_df['County'] = election_df['County'].apply(lambda x: x.replace('District Of Columbia County', 'District Of Columbia'))\n",
    "election_df = election_df[['County', 'candidatevotes', 'totalvotes']]\n",
    "election_df.columns = ['County', 'Trump Votes', 'Total Votes']\n",
    "election_df = election_df.groupby(by='County', axis=0).sum()\n",
    "election_df.reset_index(inplace=True)\n",
    "print('election_df shape:', election_df.shape)\n",
    "election_df.head()"
   ]
  },
  {
   "cell_type": "markdown",
   "id": "0a5d4e8c",
   "metadata": {},
   "source": [
    "Read csv with county areas into pandas, scrub county names to match formatting of census data and drop unneeded columns"
   ]
  },
  {
   "cell_type": "code",
   "execution_count": null,
   "id": "4b9b4f5c",
   "metadata": {},
   "outputs": [],
   "source": [
    "area_df = pd.read_csv('Data/area.csv')\n",
    "area_df = area_df[['Areaname', 'LND010200D']]\n",
    "area_df.columns = ['County', 'Area']\n",
    "area_df['County']\n",
    "\n",
    "state_abbrev_df = pd.read_csv('Data/state_abbrev.csv')\n",
    "def replace_abbrev(row):\n",
    "    if len(row.split(',')) == 1:\n",
    "        return row    \n",
    "    else:\n",
    "        state_abbrev = row.split(',')[1][1:]\n",
    "        state = state_abbrev_df[state_abbrev_df['Code']==state_abbrev]['State'].values[0]\n",
    "        return row.split(',')[0] + ' County, ' + state\n",
    "area_df['County'] = area_df['County'].apply(replace_abbrev)\n",
    "area_df['County'] = area_df['County'].apply(lambda x: x.title())\n",
    "area_df['County'] = area_df['County'].apply(lambda x: x.replace('District Of Columbia', 'District Of Columbia, District Of Columbia'))\n",
    "area_df['County'] = area_df['County'].apply(lambda x: x.replace('City County', 'City'))\n",
    "print('area_df shape:', area_df.shape)\n",
    "area_df.head()"
   ]
  },
  {
   "cell_type": "markdown",
   "id": "f408234f",
   "metadata": {},
   "source": [
    "Update Virginia independent cities in area_df table with city instead of County to match formatting of other tables"
   ]
  },
  {
   "cell_type": "code",
   "execution_count": null,
   "id": "2bbc7f94",
   "metadata": {},
   "outputs": [],
   "source": [
    "area_df['Duplicated'] = area_df['County'].duplicated()\n",
    "duplicate_counties = area_df[area_df['Duplicated']==1]['County'].values\n",
    "\n",
    "def virginia_cities(row):\n",
    "    if row['County'] not in duplicate_counties:\n",
    "        return row\n",
    "    elif row['Area'] == max(area_df[area_df['County']==row['County']]['Area'].values):\n",
    "        return row\n",
    "    else:\n",
    "        row['County'] = row['County'].replace('County', 'City')\n",
    "        return row\n",
    "area_df = area_df.apply(virginia_cities, axis=1)\n",
    "area_df.drop('Duplicated', inplace=True, axis=1)\n",
    "area_df.drop_duplicates(subset='County', inplace=True)\n",
    "area_df.head()"
   ]
  },
  {
   "cell_type": "markdown",
   "id": "2bcd5292",
   "metadata": {},
   "source": [
    "Read csv with county level education data into pandas and drop unneeded columns"
   ]
  },
  {
   "cell_type": "code",
   "execution_count": null,
   "id": "af44d36e",
   "metadata": {},
   "outputs": [],
   "source": [
    "education_df = pd.read_csv('Data/education.csv', header=1)\n",
    "education_df = education_df[['Geographic Area Name',\n",
    "                            'Estimate!!Total!!AGE BY EDUCATIONAL ATTAINMENT!!Population 25 years and over', \n",
    "                            \"Estimate!!Total!!AGE BY EDUCATIONAL ATTAINMENT!!Population 25 years and over!!Bachelor's degree or higher\"]]\n",
    "education_df.columns = ['County', 'Persons 25+', 'Persons 25+ w/ Bachelors Degree']\n",
    "print('education_df shape: ', education_df.shape)\n",
    "education_df.head()"
   ]
  },
  {
   "cell_type": "markdown",
   "id": "470d6961",
   "metadata": {},
   "source": [
    "Read csv with county level economic data into pandas and drop unneeded columns"
   ]
  },
  {
   "cell_type": "code",
   "execution_count": null,
   "id": "b2c490fc",
   "metadata": {},
   "outputs": [],
   "source": [
    "economic_df = pd.read_csv('Data/economics.csv', header=1)\n",
    "economic_df = economic_df[['Geographic Area Name',\n",
    "                          'Estimate!!INCOME AND BENEFITS (IN 2019 INFLATION-ADJUSTED DOLLARS)!!Per capita income (dollars)',\n",
    "                          'Estimate!!EMPLOYMENT STATUS!!Population 16 years and over!!In labor force',\n",
    "                          'Estimate!!EMPLOYMENT STATUS!!Population 16 years and over!!In labor force!!Civilian labor force!!Unemployed',]]\n",
    "economic_df.columns = ['County', 'Per Capita Income', 'Persons 16+ in Labor Force', 'Persons 16+ Unemployed',]\n",
    "print('economic_df shape: ', economic_df.shape)\n",
    "economic_df.head()"
   ]
  },
  {
   "cell_type": "markdown",
   "id": "aa0dca93",
   "metadata": {},
   "source": [
    "Read csv with ethnicity data into pandas and drop unneeded columns"
   ]
  },
  {
   "cell_type": "code",
   "execution_count": null,
   "id": "16e47e00",
   "metadata": {},
   "outputs": [],
   "source": [
    "ethnicity_df = pd.read_csv('Data/ethnicity.csv', header=1)\n",
    "ethnicity_df = ethnicity_df[['Geographic Area Name',\n",
    "                             'Estimate!!SEX AND AGE!!Total population!!Sex ratio (males per 100 females)',\n",
    "                             'Estimate!!SEX AND AGE!!Total population',\n",
    "                             'Estimate!!HISPANIC OR LATINO AND RACE!!Total population!!Hispanic or Latino (of any race)',\n",
    "                             'Estimate!!RACE!!Total population!!One race!!White']]\n",
    "ethnicity_df.columns = ['County', 'Sex Ratio (M/F)', 'Total Persons', 'Hispanic Persons', 'White Persons']\n",
    "print('ethnicity_df shape: ', ethnicity_df.shape)\n",
    "ethnicity_df.head()"
   ]
  },
  {
   "cell_type": "markdown",
   "id": "6c1b8188",
   "metadata": {},
   "source": [
    "Read csv with disability data into pandas and drop unneeded columns"
   ]
  },
  {
   "cell_type": "code",
   "execution_count": null,
   "id": "fc3b238c",
   "metadata": {},
   "outputs": [],
   "source": [
    "disability_df = pd.read_csv('Data/disability.csv', header=1)\n",
    "disability_df = disability_df[['Geographic Area Name',\n",
    "    'Estimate!!Percent with a disability!!Total civilian noninstitutionalized population']]\n",
    "disability_df.columns = ['County', 'Disability Proportion']\n",
    "print('disability_df shape: ', disability_df.shape)\n",
    "disability_df.head()"
   ]
  },
  {
   "cell_type": "markdown",
   "id": "b2e7d853",
   "metadata": {},
   "source": [
    "Read csv with demographic data into pandas and drop unneeded columns"
   ]
  },
  {
   "cell_type": "code",
   "execution_count": null,
   "id": "d03dd26a",
   "metadata": {},
   "outputs": [],
   "source": [
    "demographics_df = pd.read_csv('Data/demographics.csv', header=1)\n",
    "demographics_df = demographics_df[['Geographic Area Name',\n",
    "                                  'Estimate!!Total!!Total population!!SUMMARY INDICATORS!!Median age (years)']]\n",
    "demographics_df.columns = ['County', 'Median Age']\n",
    "print('demographics_df shape: ', demographics_df.shape)\n",
    "demographics_df.head()"
   ]
  },
  {
   "cell_type": "markdown",
   "id": "881153f5",
   "metadata": {},
   "source": [
    "Read csv with veteran proprtion into pandas and drop unneeded columns"
   ]
  },
  {
   "cell_type": "code",
   "execution_count": null,
   "id": "813cd503",
   "metadata": {},
   "outputs": [],
   "source": [
    "veterans_df = pd.read_csv('Data/veterans.csv', header=1)\n",
    "veterans_df = veterans_df[['Geographic Area Name',\n",
    "                           'Estimate!!Total!!Civilian population 18 years and over',\n",
    "                           'Estimate!!Veterans!!Civilian population 18 years and over']]\n",
    "veterans_df.columns = ['County', 'Civilians 18+', 'Veterans 18+']\n",
    "print('veterans_df shape: ', veterans_df.shape)\n",
    "veterans_df.head()"
   ]
  },
  {
   "cell_type": "markdown",
   "id": "8664d2cf",
   "metadata": {},
   "source": [
    "Read csv with employment data into pandas and drop unneeded columns"
   ]
  },
  {
   "cell_type": "code",
   "execution_count": null,
   "id": "d5ae4073",
   "metadata": {},
   "outputs": [],
   "source": [
    "occupation_df = pd.read_csv('Data/occupation.csv', header=1)\n",
    "occupation_df = occupation_df[['Geographic Area Name',\n",
    "                           'Estimate!!Total!!Civilian employed population 16 years and over',\n",
    "                           'Estimate!!Total!!Civilian employed population 16 years and over!!Agriculture, forestry, fishing and hunting, and mining:!!Agriculture, forestry, fishing and hunting',\n",
    "                           'Estimate!!Total!!Civilian employed population 16 years and over!!Agriculture, forestry, fishing and hunting, and mining:!!Mining, quarrying, and oil and gas extraction',\n",
    "                           'Estimate!!Total!!Civilian employed population 16 years and over!!Manufacturing']]\n",
    "occupation_df.columns = ['County', 'Employees 16+', 'Agriculture Employees 16+', 'Mining Employees 16+', \n",
    "                          'Manufacturing Employees 16+']\n",
    "print('occupation_df shape: ', occupation_df.shape)\n",
    "occupation_df.head()"
   ]
  },
  {
   "cell_type": "markdown",
   "id": "8bbef959",
   "metadata": {},
   "source": [
    "Merge all dfs from census sources together"
   ]
  },
  {
   "cell_type": "code",
   "execution_count": null,
   "id": "16ddb6fd",
   "metadata": {},
   "outputs": [],
   "source": [
    "df = pd.merge(education_df, economic_df, on='County')\n",
    "df = pd.merge(df, ethnicity_df, on='County')\n",
    "df = pd.merge(df, disability_df, on='County')\n",
    "df = pd.merge(df, demographics_df, on='County')\n",
    "df = pd.merge(df, veterans_df, on='County')\n",
    "df = pd.merge(df, occupation_df, on='County')\n",
    "print('df shape:', df.shape)\n",
    "df.head()"
   ]
  },
  {
   "cell_type": "markdown",
   "id": "ea79fbb3",
   "metadata": {},
   "source": [
    "Scrub county names in df with census data to match county names in other dfs for subsequent merger"
   ]
  },
  {
   "cell_type": "code",
   "execution_count": null,
   "id": "6bab4cd7",
   "metadata": {},
   "outputs": [],
   "source": [
    "def scrub_county(name):\n",
    "    name = name.replace('Parish', 'County')\n",
    "    name = name.replace('ñ', 'n')\n",
    "    name = name.replace('Saint', 'St.')\n",
    "    name = name.replace('City County', 'City')\n",
    "    name = name.title()\n",
    "    return name\n",
    "df['County'] = df['County'].apply(scrub_county)"
   ]
  },
  {
   "cell_type": "markdown",
   "id": "ff79b90a",
   "metadata": {},
   "source": [
    "Merge df with election results"
   ]
  },
  {
   "cell_type": "code",
   "execution_count": null,
   "id": "53f9cb73",
   "metadata": {},
   "outputs": [],
   "source": [
    "df = pd.merge(df, election_df, on='County')\n",
    "print('df shape:', df.shape)\n",
    "df.head()"
   ]
  },
  {
   "cell_type": "markdown",
   "id": "eb7f4c18",
   "metadata": {},
   "source": [
    "Scrub area_df county names to match df county names"
   ]
  },
  {
   "cell_type": "code",
   "execution_count": null,
   "id": "878b54ff",
   "metadata": {},
   "outputs": [],
   "source": [
    "missing_counties = pd.merge(area_df, df, on='County', how='right')[pd.merge(area_df, df, on='County', how='right').isna().max(axis=1)]['County'].values\n",
    "replacement_counties = []\n",
    "for county in missing_counties:\n",
    "    replacement_counties.append(county.replace('City', 'County'))\n",
    "for num in range(0, len(missing_counties)):\n",
    "    area_df['County'] = area_df['County'].apply(lambda x: x.replace(replacement_counties[num], missing_counties[num]))"
   ]
  },
  {
   "cell_type": "markdown",
   "id": "243401e0",
   "metadata": {},
   "source": [
    "Merge df with area_df"
   ]
  },
  {
   "cell_type": "code",
   "execution_count": null,
   "id": "0d3ddf1b",
   "metadata": {},
   "outputs": [],
   "source": [
    "df = pd.merge(df, area_df, on='County')\n",
    "print('df shape:', df.shape)\n",
    "df.head()"
   ]
  },
  {
   "cell_type": "markdown",
   "id": "477646df",
   "metadata": {},
   "source": [
    "# Scrub Data"
   ]
  },
  {
   "cell_type": "markdown",
   "id": "4769bf43",
   "metadata": {},
   "source": [
    "Use df.info() to see what data scrubbing needed"
   ]
  },
  {
   "cell_type": "code",
   "execution_count": null,
   "id": "b4e69073",
   "metadata": {},
   "outputs": [],
   "source": [
    "df.info()"
   ]
  },
  {
   "cell_type": "markdown",
   "id": "6fc618d6",
   "metadata": {},
   "source": [
    "Replace all N datapoints, signifying a missing value, with np.nan and change column data types to int"
   ]
  },
  {
   "cell_type": "code",
   "execution_count": null,
   "id": "f60c3cc2",
   "metadata": {},
   "outputs": [],
   "source": [
    "replace_dict = {'N': np.nan}\n",
    "df = df.replace(replace_dict)\n",
    "dtype_dict = {'White Persons': float, 'Employees 16+': float, 'Agriculture Employees 16+': float,\n",
    "              'Mining Employees 16+': float, 'Manufacturing Employees 16+': float}\n",
    "df = df.astype(dtype_dict)\n",
    "df.head()"
   ]
  },
  {
   "cell_type": "markdown",
   "id": "d1af5e48",
   "metadata": {},
   "source": [
    "Calculate interaction independent variables and drop variables used to calculate interacitons"
   ]
  },
  {
   "cell_type": "code",
   "execution_count": null,
   "id": "99b164f1",
   "metadata": {},
   "outputs": [],
   "source": [
    "df['Bachelors Degree Proportion'] = df['Persons 25+ w/ Bachelors Degree']/df['Persons 25+']\n",
    "df.drop(columns=['Persons 25+ w/ Bachelors Degree', 'Persons 25+'], inplace=True)\n",
    "\n",
    "df['Unemployment Rate'] = df['Persons 16+ Unemployed']/df['Persons 16+ in Labor Force']\n",
    "df.drop(columns=['Persons 16+ Unemployed', 'Persons 16+ in Labor Force'], inplace=True)\n",
    "\n",
    "df['Hispanic Population Proportion'] = df['Hispanic Persons']/df['Total Persons']\n",
    "df.drop(columns=['Hispanic Persons'], inplace=True)\n",
    "\n",
    "df['White Population Proportion'] = df['White Persons']/df['Total Persons']\n",
    "df.drop(columns=['White Persons'], inplace=True)\n",
    "\n",
    "df['Veteran Population Proportion'] = df['Veterans 18+']/df['Civilians 18+']\n",
    "df.drop(columns=['Veterans 18+', 'Civilians 18+'], inplace=True)\n",
    "\n",
    "df['Agriculture Employment Proportion'] = df['Agriculture Employees 16+']/df['Employees 16+']\n",
    "df.drop(columns=['Agriculture Employees 16+'], inplace=True)\n",
    "\n",
    "df['Mining Employment Proportion'] = df['Mining Employees 16+']/df['Employees 16+']\n",
    "df.drop(columns=['Mining Employees 16+'], inplace=True)\n",
    "\n",
    "df['Manufacturing Employment Proportion'] = df['Manufacturing Employees 16+']/df['Employees 16+']\n",
    "df.drop(columns=['Manufacturing Employees 16+', 'Employees 16+'], inplace=True)\n",
    "\n",
    "df['Trump Vote Proportion'] = df['Trump Votes']/df['Total Votes']\n",
    "df.drop(columns=['Trump Votes', 'Total Votes'], inplace=True)\n",
    "\n",
    "df['Population Density'] = df['Total Persons']/df['Area']\n",
    "df.drop(columns=['Total Persons', 'Area'], inplace=True)\n",
    "\n",
    "df.head()"
   ]
  },
  {
   "cell_type": "markdown",
   "id": "dc1cb396",
   "metadata": {},
   "source": [
    "Drop rows missing voting data"
   ]
  },
  {
   "cell_type": "code",
   "execution_count": null,
   "id": "163a2588",
   "metadata": {},
   "outputs": [],
   "source": []
  },
  {
   "cell_type": "markdown",
   "id": "27f92089",
   "metadata": {},
   "source": [
    "Drop columns not useful for modeling"
   ]
  },
  {
   "cell_type": "code",
   "execution_count": null,
   "id": "3b50c9ca",
   "metadata": {},
   "outputs": [],
   "source": [
    "df.drop(columns='County', inplace=True)\n",
    "df.head()"
   ]
  },
  {
   "cell_type": "markdown",
   "id": "b8c74e76",
   "metadata": {},
   "source": [
    "Impute missing values"
   ]
  },
  {
   "cell_type": "code",
   "execution_count": null,
   "id": "deded48f",
   "metadata": {},
   "outputs": [],
   "source": [
    "imputer_ss = StandardScaler()\n",
    "df = pd.DataFrame(imputer_ss.fit_transform(df), columns=df.columns)\n",
    "\n",
    "imputer = KNNImputer()\n",
    "df = pd.DataFrame(imputer.fit_transform(df), columns=df.columns)\n",
    "\n",
    "df.head()"
   ]
  }
 ],
 "metadata": {
  "kernelspec": {
   "display_name": "Python 3",
   "language": "python",
   "name": "python3"
  },
  "language_info": {
   "codemirror_mode": {
    "name": "ipython",
    "version": 3
   },
   "file_extension": ".py",
   "mimetype": "text/x-python",
   "name": "python",
   "nbconvert_exporter": "python",
   "pygments_lexer": "ipython3",
   "version": "3.9.5"
  }
 },
 "nbformat": 4,
 "nbformat_minor": 5
}
